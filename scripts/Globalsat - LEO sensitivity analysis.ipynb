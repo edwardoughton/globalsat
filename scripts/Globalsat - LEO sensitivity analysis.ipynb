{
 "cells": [
  {
   "cell_type": "markdown",
   "metadata": {},
   "source": [
    "This notebook outlines an engineering-economic assessment method for a global LEO satellite network.\n",
    "\n",
    "The aim is to assess capacity per user and cost per user. "
   ]
  },
  {
   "cell_type": "code",
   "execution_count": 1,
   "metadata": {},
   "outputs": [],
   "source": [
    "import numpy as np\n",
    "import math\n",
    "import matplotlib.pyplot as plt\n",
    "import csv\n",
    "import pandas as pd"
   ]
  },
  {
   "attachments": {
    "image.png": {
     "image/png": "[encoded data removed]"
    }
   },
   "cell_type": "markdown",
   "metadata": {},
   "source": [
    "Path Loss for A point on Earth and Starlink is given by\n",
    "![image.png](attachment:image.png)\n",
    "Where d=antenna diameter, f=frequency and c= speed of light"
   ]
  },
  {
   "cell_type": "markdown",
   "metadata": {},
   "source": [
    "### Antenna Gain"
   ]
  },
  {
   "cell_type": "code",
   "execution_count": 2,
   "metadata": {},
   "outputs": [
    {
     "name": "stdout",
     "output_type": "stream",
     "text": [
      "Antenna Gain= 37.7 dB\n"
     ]
    }
   ],
   "source": [
    "def GT(D,f,n): #D=Antenna diameter in m, f=Frequency in Hertz and n= antenna efficiency usually 0.6\n",
    "    c=3.0*10**8 #c=speed of light\n",
    "    λ=c/f # lambda= wavelength of the signal\n",
    "    gain=10*(math.log10(n*((np.pi*D)/λ)**2))\n",
    "    return gain\n",
    "D=0.7 #float(input(\"Enter Antenna Diameter in metres: \"))\n",
    "f=13.5 #float(input(\"Enter the signal frequency in GHz: \"))\n",
    "n=0.6 #float(input(\"Enter the Antenna Efficiency: \"))'''\n",
    "GT=37.7\n",
    "print('Antenna Gain= '+str(GT)+ ' dB')"
   ]
  },
  {
   "cell_type": "markdown",
   "metadata": {},
   "source": [
    "### Effective Isotropic Radiated Power (EIRP)"
   ]
  },
  {
   "cell_type": "code",
   "execution_count": 3,
   "metadata": {},
   "outputs": [
    {
     "name": "stdout",
     "output_type": "stream",
     "text": [
      "EIRP= 66.7 dB\n"
     ]
    }
   ],
   "source": [
    "EIRP=36.7+30 #round(EIRP(),4)\n",
    "print('EIRP= '+str(EIRP)+ ' dB')"
   ]
  },
  {
   "cell_type": "markdown",
   "metadata": {},
   "source": [
    "### Rain Attenuation (AL) and Other Losses (OL)"
   ]
  },
  {
   "cell_type": "markdown",
   "metadata": {},
   "source": [
    "The rain attenuation is assumed to be 10dB as well as other losses thus accounting for 20dB in total."
   ]
  },
  {
   "cell_type": "code",
   "execution_count": 4,
   "metadata": {},
   "outputs": [
    {
     "name": "stdout",
     "output_type": "stream",
     "text": [
      "Total Losses= 10.53 dB\n"
     ]
    }
   ],
   "source": [
    "RT=10 #float(input(\"Enter Rain Attenuation (dB): \")) #Rainfall Attenuation\n",
    "'''GST=0#float(input(\"Enter Gaseous Attenuation (dB): \")) #Gaseous Attenuation\n",
    "CT=0#float(input(\"Enter Cloud Attenuation (dB): \")) #Cloud Attenuation\n",
    "ST=0#float(input(\"Scintillation Attenuation (dB): \")) #Scintillation Attenuation'''\n",
    "OT=0.53#float(input(\"Enter Sum of other losses (dB): \")) # Other losses\n",
    "TL=RT+OT                                                #TL=Total Losses\n",
    "print('Total Losses= '+str(TL)+ ' dB')"
   ]
  },
  {
   "cell_type": "markdown",
   "metadata": {},
   "source": [
    "### Noise Power (N)"
   ]
  },
  {
   "cell_type": "code",
   "execution_count": 5,
   "metadata": {},
   "outputs": [
    {
     "name": "stdout",
     "output_type": "stream",
     "text": [
      "Noise Power= -89.9978290702777 dB\n"
     ]
    }
   ],
   "source": [
    "def Noise():\n",
    "    k=1.38*10**-23                     #Boltzmann's constant k = 1.38×10−23 joules per kelvin\n",
    "    T=290                              #Temperature of the receiver system T0 in kelvins\n",
    "    B=0.25                             #Detection bandwidth (BW) in Hz\n",
    "    Np=(10*(math.log10((k*T*1000))))+(10*(math.log10(B*10**9))) #Np=Noise power\n",
    "    return Np\n",
    "Noise=Noise()\n",
    "print('Noise Power= '+str(Noise)+ ' dB')"
   ]
  },
  {
   "cell_type": "markdown",
   "metadata": {},
   "source": [
    "### POWER RECEIVED (PR)"
   ]
  },
  {
   "cell_type": "code",
   "execution_count": 6,
   "metadata": {},
   "outputs": [
    {
     "name": "stdout",
     "output_type": "stream",
     "text": [
      "Power Received= 93.87 dB\n"
     ]
    }
   ],
   "source": [
    "FSLP=0               #Ignoring FSLP at first so that it can be calculated for different values\n",
    "def PR():\n",
    "    pr=EIRP+GT-FSLP-TL\n",
    "    return pr\n",
    "PR=PR()\n",
    "print('Power Received= '+str(PR)+ ' dB')"
   ]
  },
  {
   "cell_type": "markdown",
   "metadata": {},
   "source": [
    "### CARRIER TO NOISE RATIO (CNR)"
   ]
  },
  {
   "cell_type": "code",
   "execution_count": 7,
   "metadata": {},
   "outputs": [
    {
     "name": "stdout",
     "output_type": "stream",
     "text": [
      "CNR= 183.8678 dB\n"
     ]
    }
   ],
   "source": [
    "Noise=-89.9978\n",
    "CNR=round(float((PR)-(Noise)),4)\n",
    "print('CNR= '+str(CNR)+ ' dB')"
   ]
  },
  {
   "cell_type": "markdown",
   "metadata": {},
   "source": [
    "#### LEO SYSTEM MODEL APPLIED TO STARLINK"
   ]
  },
  {
   "cell_type": "markdown",
   "metadata": {},
   "source": [
    "The subsequent function calculates the Signal to Noise Ratio, Received power and Free Space Path loss as dif"
   ]
  },
  {
   "cell_type": "code",
   "execution_count": 8,
   "metadata": {
    "scrolled": false
   },
   "outputs": [],
   "source": [
    "def starlink_capacity(Number_of_assets):\n",
    "    Total_Earth_Area=510000000                      #Area of Earth\n",
    "    Asset_Altitude=550                              #Altitude of starlink satellites\n",
    "    Downlink_Frequency=13.5*10**9                   #Downlink frequency in Hertz\n",
    "    Speed_of_light=3.0*10**8                        #Speed of light in vacuum\n",
    "    wavelength=Speed_of_light/Downlink_Frequency    #Downlink Wavelength in m\n",
    "    Received_power_less_FSLP=93.87                  #Received power before subtracting Free space path loss\n",
    "    Carrier_to_Noise_Ratio=183.8678                 #Carrier noise ratio before subtracting noise power\n",
    "    Earth_area_covered=Total_Earth_Area*0.8         #Approximate area of earth covered\n",
    "    NoA=[]  #Empty array to store the number of assets\n",
    "    CPUA=[] #Empty array to store the coverage per user asset\n",
    "    ADA=[]  #Empty array to store Average distance between assets\n",
    "    MPD=[]  #Empty array to store Maximum path distance\n",
    "    FSPL=[] #Empty array to store Free Space path loss\n",
    "    PR=[]   #Empty array to store Received_power\n",
    "    SNR=[]  #Empty array to store Signal to Noise Ratio\n",
    "    SE=[]   #Empty array for storing spevctral efficinecy\n",
    "    for noa in Number_of_assets: #Return results for NoA, CPUA,ADA,MPD,FSPL,PR and SNR as satellites increase by 60\n",
    "        Network_Density=noa/Earth_area_covered\n",
    "        Coverage_area_per_asset=Earth_area_covered/noa\n",
    "        Average_distance_between_assets=math.sqrt(((1)/Network_Density))/(2)\n",
    "        Max_path_distance=math.sqrt(((Average_distance_between_assets)**2)+((Asset_Altitude)**2))\n",
    "        Free_Space_path_loss=10*(math.log10(((4*np.pi*Max_path_distance*10**3)/wavelength)**2))\n",
    "        Received_power=Received_power_less_FSLP-Free_Space_path_loss\n",
    "        Signal_to_Noise_Ratio=Carrier_to_Noise_Ratio-Free_Space_path_loss\n",
    "        \n",
    "        #Calculate spectral efficiency for ever signal ratio using APSK modulation table from\n",
    "        #ETSI EN 302 307-2 V1.2.1 (2020-08\n",
    "        def SEP():\n",
    "            if (Signal_to_Noise_Ratio>=4.73 and Signal_to_Noise_Ratio<5.12):\n",
    "                spectral_efficiency=1.647211\n",
    "            elif (Signal_to_Noise_Ratio>=5.13 and Signal_to_Noise_Ratio<5.96):\n",
    "                spectral_efficiency=1.972253\n",
    "            elif (Signal_to_Noise_Ratio>=5.97 and Signal_to_Noise_Ratio<6.54):\n",
    "                spectral_efficiency=1.972253\n",
    "            elif (Signal_to_Noise_Ratio>=6.55 and Signal_to_Noise_Ratio<6.83):\n",
    "                spectral_efficiency=2.104850\n",
    "            elif (Signal_to_Noise_Ratio>=6.84 and Signal_to_Noise_Ratio<7.5):\n",
    "                spectral_efficiency=2.193247\n",
    "            elif (Signal_to_Noise_Ratio>=7.51 and Signal_to_Noise_Ratio<7.79):\n",
    "                spectral_efficiency=2.281645\n",
    "            elif (Signal_to_Noise_Ratio>=7.8 and Signal_to_Noise_Ratio<7.40):\n",
    "                spectral_efficiency=2.370043\n",
    "            elif (Signal_to_Noise_Ratio>=7.41 and Signal_to_Noise_Ratio<8.0):\n",
    "                spectral_efficiency=2.370043\n",
    "            elif (Signal_to_Noise_Ratio>=8.1 and Signal_to_Noise_Ratio<8.37):\n",
    "                spectral_efficiency=2.458441\n",
    "            elif (Signal_to_Noise_Ratio>=8.38 and Signal_to_Noise_Ratio<8.42):\n",
    "                spectral_efficiency=2.524739\n",
    "            elif (Signal_to_Noise_Ratio>=8.43 and Signal_to_Noise_Ratio<9.26):\n",
    "                spectral_efficiency=2.635236\n",
    "            elif (Signal_to_Noise_Ratio>=9.27 and Signal_to_Noise_Ratio<9.70):\n",
    "                spectral_efficiency=2.745734\n",
    "            elif (Signal_to_Noise_Ratio>=9.71 and Signal_to_Noise_Ratio<10.64):\n",
    "                spectral_efficiency=2.856231\n",
    "            elif (Signal_to_Noise_Ratio>=10.65 and Signal_to_Noise_Ratio<11.98):\n",
    "                spectral_efficiency=3.077225\n",
    "            elif (Signal_to_Noise_Ratio>=11.99 and Signal_to_Noise_Ratio<11.09):\n",
    "                spectral_efficiency=3.386618\n",
    "            elif (Signal_to_Noise_Ratio>=11.1 and Signal_to_Noise_Ratio<11.74):\n",
    "                spectral_efficiency=3.291954\n",
    "            elif (Signal_to_Noise_Ratio>=11.75 and Signal_to_Noise_Ratio<12.16):\n",
    "                spectral_efficiency=3.510192\n",
    "            elif (Signal_to_Noise_Ratio>=12.17 and Signal_to_Noise_Ratio<13.04):\n",
    "                spectral_efficiency=3.620536\n",
    "            elif (Signal_to_Noise_Ratio>=13.05 and Signal_to_Noise_Ratio<13.97):\n",
    "                spectral_efficiency=3.841226\n",
    "            elif (Signal_to_Noise_Ratio>=13.98 and Signal_to_Noise_Ratio<14.8):\n",
    "                spectral_efficiency=4.206428\n",
    "            elif (Signal_to_Noise_Ratio>=14.81 and Signal_to_Noise_Ratio<15.46):\n",
    "                spectral_efficiency=4.338659\n",
    "            elif (Signal_to_Noise_Ratio>=15.47 and Signal_to_Noise_Ratio<15.86):\n",
    "                spectral_efficiency=4.603122\n",
    "            elif (Signal_to_Noise_Ratio>=15.87 and Signal_to_Noise_Ratio<16.54):\n",
    "                spectral_efficiency=4.735354\n",
    "            elif (Signal_to_Noise_Ratio>=16.55 and Signal_to_Noise_Ratio<17.72):\n",
    "                spectral_efficiency=4.936639\n",
    "            elif (Signal_to_Noise_Ratio>=17.73 and Signal_to_Noise_Ratio<18.52):\n",
    "                spectral_efficiency=5.163248\n",
    "            elif (Signal_to_Noise_Ratio>=18.53 and Signal_to_Noise_Ratio<16.97):\n",
    "                spectral_efficiency=5.355556\n",
    "            elif (Signal_to_Noise_Ratio>=16.98 and Signal_to_Noise_Ratio<17.23):\n",
    "                spectral_efficiency=5.065690\n",
    "            elif (Signal_to_Noise_Ratio>=17.24 and Signal_to_Noise_Ratio<18.0):\n",
    "                spectral_efficiency=5.241514\n",
    "            elif (Signal_to_Noise_Ratio>=18.1 and Signal_to_Noise_Ratio<18.58):\n",
    "                spectral_efficiency=5.417338\n",
    "            elif (Signal_to_Noise_Ratio>=18.59 and Signal_to_Noise_Ratio<18.83):\n",
    "                spectral_efficiency=5.593162\n",
    "            elif (Signal_to_Noise_Ratio>=18.84 and Signal_to_Noise_Ratio<19.56):\n",
    "                spectral_efficiency=5.768987\n",
    "            elif (Signal_to_Noise_Ratio>=19.57):\n",
    "                spectral_efficiency=5.900855\n",
    "            else:\n",
    "                spectral_efficiency=1\n",
    "            return spectral_efficiency\n",
    "        s=SEP()       \n",
    "        #Store the output as lists\n",
    "        NoA.append(Network_Density)\n",
    "        CPUA.append(Coverage_area_per_asset)\n",
    "        ADA.append(Average_distance_between_assets)\n",
    "        MPD.append(Max_path_distance)\n",
    "        FSPL.append(Free_Space_path_loss)\n",
    "        PR.append(Received_power)\n",
    "        SNR.append(Signal_to_Noise_Ratio)\n",
    "        SE.append(s)\n",
    "    return NoA,CPUA,ADA,MPD,FSPL,PR,SNR,SE #return as a tuple\n",
    "\n",
    "satellites=(np.linspace(60,5040,84)).tolist() #Increase the satellites by 60 until 5000 have been launched\n",
    "Number_of_assets=satellites\n",
    "#starlink_capacity(Number_of_assets)\n",
    "#NoA_=sc[0]"
   ]
  },
  {
   "cell_type": "code",
   "execution_count": 9,
   "metadata": {},
   "outputs": [],
   "source": [
    "NoA_,CPUA_,ADA_,MPD_,FSPL_,PR_,SNR_,SE_,=starlink_capacity(Number_of_assets)"
   ]
  },
  {
   "cell_type": "code",
   "execution_count": 10,
   "metadata": {},
   "outputs": [
    {
     "data": {
      "text/html": [
       "<div>\n",
       "<style scoped>\n",
       "    .dataframe tbody tr th:only-of-type {\n",
       "        vertical-align: middle;\n",
       "    }\n",
       "\n",
       "    .dataframe tbody tr th {\n",
       "        vertical-align: top;\n",
       "    }\n",
       "\n",
       "    .dataframe thead th {\n",
       "        text-align: right;\n",
       "    }\n",
       "</style>\n",
       "<table border=\"1\" class=\"dataframe\">\n",
       "  <thead>\n",
       "    <tr style=\"text-align: right;\">\n",
       "      <th></th>\n",
       "      <th>Number of Assets</th>\n",
       "      <th>Coverage Area per Asset (km2)</th>\n",
       "      <th>Average Distance Between Assets(km)</th>\n",
       "      <th>Maximum Path Distance (km)</th>\n",
       "      <th>Free Space Path Loss (dB)</th>\n",
       "      <th>Received Power (dB)</th>\n",
       "      <th>Signal to Noise Ratio (dB)</th>\n",
       "      <th>Spectral Efficiency (bps/Hz)</th>\n",
       "    </tr>\n",
       "  </thead>\n",
       "  <tbody>\n",
       "    <tr>\n",
       "      <th>0</th>\n",
       "      <td>1.470588e-07</td>\n",
       "      <td>6.800000e+06</td>\n",
       "      <td>1303.840481</td>\n",
       "      <td>1415.097170</td>\n",
       "      <td>178.064173</td>\n",
       "      <td>-84.194173</td>\n",
       "      <td>5.803627</td>\n",
       "      <td>1.972253</td>\n",
       "    </tr>\n",
       "    <tr>\n",
       "      <th>1</th>\n",
       "      <td>2.941176e-07</td>\n",
       "      <td>3.400000e+06</td>\n",
       "      <td>921.954446</td>\n",
       "      <td>1073.545528</td>\n",
       "      <td>175.664857</td>\n",
       "      <td>-81.794857</td>\n",
       "      <td>8.202943</td>\n",
       "      <td>2.458441</td>\n",
       "    </tr>\n",
       "    <tr>\n",
       "      <th>2</th>\n",
       "      <td>4.411765e-07</td>\n",
       "      <td>2.266667e+06</td>\n",
       "      <td>752.772653</td>\n",
       "      <td>932.291085</td>\n",
       "      <td>174.439478</td>\n",
       "      <td>-80.569478</td>\n",
       "      <td>9.428322</td>\n",
       "      <td>2.745734</td>\n",
       "    </tr>\n",
       "    <tr>\n",
       "      <th>3</th>\n",
       "      <td>5.882353e-07</td>\n",
       "      <td>1.700000e+06</td>\n",
       "      <td>651.920241</td>\n",
       "      <td>852.936105</td>\n",
       "      <td>173.666778</td>\n",
       "      <td>-79.796778</td>\n",
       "      <td>10.201022</td>\n",
       "      <td>2.856231</td>\n",
       "    </tr>\n",
       "    <tr>\n",
       "      <th>4</th>\n",
       "      <td>7.352941e-07</td>\n",
       "      <td>1.360000e+06</td>\n",
       "      <td>583.095189</td>\n",
       "      <td>801.560977</td>\n",
       "      <td>173.127179</td>\n",
       "      <td>-79.257179</td>\n",
       "      <td>10.740621</td>\n",
       "      <td>3.077225</td>\n",
       "    </tr>\n",
       "    <tr>\n",
       "      <th>...</th>\n",
       "      <td>...</td>\n",
       "      <td>...</td>\n",
       "      <td>...</td>\n",
       "      <td>...</td>\n",
       "      <td>...</td>\n",
       "      <td>...</td>\n",
       "      <td>...</td>\n",
       "      <td>...</td>\n",
       "    </tr>\n",
       "    <tr>\n",
       "      <th>79</th>\n",
       "      <td>1.176471e-05</td>\n",
       "      <td>8.500000e+04</td>\n",
       "      <td>145.773797</td>\n",
       "      <td>568.990334</td>\n",
       "      <td>170.150545</td>\n",
       "      <td>-76.280545</td>\n",
       "      <td>13.717255</td>\n",
       "      <td>3.841226</td>\n",
       "    </tr>\n",
       "    <tr>\n",
       "      <th>80</th>\n",
       "      <td>1.191176e-05</td>\n",
       "      <td>8.395062e+04</td>\n",
       "      <td>144.871165</td>\n",
       "      <td>568.759751</td>\n",
       "      <td>170.147025</td>\n",
       "      <td>-76.277025</td>\n",
       "      <td>13.720775</td>\n",
       "      <td>3.841226</td>\n",
       "    </tr>\n",
       "    <tr>\n",
       "      <th>81</th>\n",
       "      <td>1.205882e-05</td>\n",
       "      <td>8.292683e+04</td>\n",
       "      <td>143.985094</td>\n",
       "      <td>568.534702</td>\n",
       "      <td>170.143587</td>\n",
       "      <td>-76.273587</td>\n",
       "      <td>13.724213</td>\n",
       "      <td>3.841226</td>\n",
       "    </tr>\n",
       "    <tr>\n",
       "      <th>82</th>\n",
       "      <td>1.220588e-05</td>\n",
       "      <td>8.192771e+04</td>\n",
       "      <td>143.115086</td>\n",
       "      <td>568.314990</td>\n",
       "      <td>170.140230</td>\n",
       "      <td>-76.270230</td>\n",
       "      <td>13.727570</td>\n",
       "      <td>3.841226</td>\n",
       "    </tr>\n",
       "    <tr>\n",
       "      <th>83</th>\n",
       "      <td>1.235294e-05</td>\n",
       "      <td>8.095238e+04</td>\n",
       "      <td>142.260659</td>\n",
       "      <td>568.100427</td>\n",
       "      <td>170.136950</td>\n",
       "      <td>-76.266950</td>\n",
       "      <td>13.730850</td>\n",
       "      <td>3.841226</td>\n",
       "    </tr>\n",
       "  </tbody>\n",
       "</table>\n",
       "<p>84 rows × 8 columns</p>\n",
       "</div>"
      ],
      "text/plain": [
       "    Number of Assets  Coverage Area per Asset (km2)  \\\n",
       "0       1.470588e-07                   6.800000e+06   \n",
       "1       2.941176e-07                   3.400000e+06   \n",
       "2       4.411765e-07                   2.266667e+06   \n",
       "3       5.882353e-07                   1.700000e+06   \n",
       "4       7.352941e-07                   1.360000e+06   \n",
       "..               ...                            ...   \n",
       "79      1.176471e-05                   8.500000e+04   \n",
       "80      1.191176e-05                   8.395062e+04   \n",
       "81      1.205882e-05                   8.292683e+04   \n",
       "82      1.220588e-05                   8.192771e+04   \n",
       "83      1.235294e-05                   8.095238e+04   \n",
       "\n",
       "    Average Distance Between Assets(km)  Maximum Path Distance (km)  \\\n",
       "0                           1303.840481                 1415.097170   \n",
       "1                            921.954446                 1073.545528   \n",
       "2                            752.772653                  932.291085   \n",
       "3                            651.920241                  852.936105   \n",
       "4                            583.095189                  801.560977   \n",
       "..                                  ...                         ...   \n",
       "79                           145.773797                  568.990334   \n",
       "80                           144.871165                  568.759751   \n",
       "81                           143.985094                  568.534702   \n",
       "82                           143.115086                  568.314990   \n",
       "83                           142.260659                  568.100427   \n",
       "\n",
       "    Free Space Path Loss (dB)  Received Power (dB)  \\\n",
       "0                  178.064173           -84.194173   \n",
       "1                  175.664857           -81.794857   \n",
       "2                  174.439478           -80.569478   \n",
       "3                  173.666778           -79.796778   \n",
       "4                  173.127179           -79.257179   \n",
       "..                        ...                  ...   \n",
       "79                 170.150545           -76.280545   \n",
       "80                 170.147025           -76.277025   \n",
       "81                 170.143587           -76.273587   \n",
       "82                 170.140230           -76.270230   \n",
       "83                 170.136950           -76.266950   \n",
       "\n",
       "    Signal to Noise Ratio (dB)  Spectral Efficiency (bps/Hz)  \n",
       "0                     5.803627                      1.972253  \n",
       "1                     8.202943                      2.458441  \n",
       "2                     9.428322                      2.745734  \n",
       "3                    10.201022                      2.856231  \n",
       "4                    10.740621                      3.077225  \n",
       "..                         ...                           ...  \n",
       "79                   13.717255                      3.841226  \n",
       "80                   13.720775                      3.841226  \n",
       "81                   13.724213                      3.841226  \n",
       "82                   13.727570                      3.841226  \n",
       "83                   13.730850                      3.841226  \n",
       "\n",
       "[84 rows x 8 columns]"
      ]
     },
     "execution_count": 10,
     "metadata": {},
     "output_type": "execute_result"
    }
   ],
   "source": [
    "from pandas import DataFrame\n",
    "\n",
    "#Converting the Outputs into Dataframes\n",
    "\n",
    "df = DataFrame (NoA_,columns=['Number of Assets'])\n",
    "df1=DataFrame (CPUA_,columns=['Coverage Area per Asset (km2)'])\n",
    "df2=DataFrame (ADA_,columns=['Average Distance Between Assets(km)'])\n",
    "df3=DataFrame (MPD_,columns=['Maximum Path Distance (km)'])\n",
    "df4=DataFrame (FSPL_,columns=['Free Space Path Loss (dB)'])\n",
    "df5=DataFrame (PR_,columns=['Received Power (dB)'])\n",
    "df6=DataFrame (SNR_,columns=['Signal to Noise Ratio (dB)'])\n",
    "df7=DataFrame (SE_,columns=['Spectral Efficiency (bps/Hz)'])\n",
    "\n",
    "#Merging the dataframes into one\n",
    "comb = pd.merge(df,df1, right_index=True, left_index=True)\n",
    "comb1 = pd.merge(df2,df3, right_index=True, left_index=True)\n",
    "comb2= pd.merge(df4,df5, right_index=True, left_index=True)\n",
    "comb3=pd.merge(comb,comb1, right_index=True, left_index=True)\n",
    "comb4=pd.merge(comb3,comb2, right_index=True, left_index=True)\n",
    "comb5=pd.merge(comb4,df6, right_index=True, left_index=True)\n",
    "comb6=pd.merge(comb5,df7, right_index=True, left_index=True)\n",
    "comb6"
   ]
  },
  {
   "cell_type": "markdown",
   "metadata": {},
   "source": [
    "### DATA VISUALIZATION"
   ]
  },
  {
   "cell_type": "code",
   "execution_count": 11,
   "metadata": {},
   "outputs": [],
   "source": [
    "def plotting_function1_isd(data):\n",
    "\n",
    "    data_subset = data[['inter_site_distance_km','frequency_GHz','path_loss_dB',\n",
    "    'received_power_dB', 'interference_dB', 'sinr_dB', 'spectral_efficiency_bps_hz',\n",
    "    'capacity_mbps_km2']]\n",
    "\n",
    "    data_subset.columns = ['Inter-Site Distance (km)', 'Frequency (GHz)', 'Path Loss',\n",
    "        'Received Power', 'Interference', 'SINR', 'SE',\n",
    "        'Channel Capacity']\n",
    "\n",
    "    long_data = pd.melt(data_subset,\n",
    "        id_vars=['Inter-Site Distance (km)', 'Frequency (GHz)'],\n",
    "        value_vars=['Path Loss', 'Received Power', 'Interference',\n",
    "            'SINR', 'SE', 'Channel Capacity'])\n",
    "\n",
    "    long_data.columns = ['Inter-Site Distance (km)', 'Frequency (GHz)',\n",
    "        'Metric', 'Value']\n",
    "\n",
    "    sns.set(font_scale=1.1)\n",
    "\n",
    "    plot = sns.relplot(x=\"Inter-Site Distance (km)\", y='Value', hue=\"Frequency (GHz)\",\n",
    "        col=\"Metric\", col_wrap=2, palette=sns.color_palette(\"husl\", 6),\n",
    "        kind=\"line\", data=long_data,\n",
    "        facet_kws=dict(sharex=False, sharey=False),\n",
    "        legend=\"full\")\n",
    "\n",
    "    handles = plot._legend_data.values()\n",
    "    labels = plot._legend_data.keys()\n",
    "    plot._legend.remove()\n",
    "    plot.fig.legend(handles=handles, labels=labels, loc='lower center', ncol=7)\n",
    "\n",
    "    plot.axes[0].set_ylabel('Path Loss (dB)')\n",
    "    plot.axes[1].set_ylabel('Received Power (dBm)')\n",
    "    plot.axes[2].set_ylabel('Interference (dBm)')\n",
    "    plot.axes[3].set_ylabel('SINR (dB)')\n",
    "    plot.axes[4].set_ylabel('SE (Bps/Hz)')\n",
    "    plot.axes[5].set_ylabel('Capacity (Mbps km^2)')\n",
    "\n",
    "    plot.axes[0].set_xlabel('Inter-Site Distance (km)')\n",
    "    plot.axes[1].set_xlabel('Inter-Site Distance (km)')\n",
    "    plot.axes[2].set_xlabel('Inter-Site Distance (km)')\n",
    "    plot.axes[3].set_xlabel('Inter-Site Distance (km)')\n",
    "    plot.axes[4].set_xlabel('Inter-Site Distance (km)')\n",
    "    plot.axes[5].set_xlabel('Inter-Site Distance (km)')\n",
    "\n",
    "    plt.subplots_adjust(hspace=0.3, wspace=0.3, bottom=0.07)\n",
    "\n",
    "    plot.savefig(DATA_OUTPUT + '/frequency_capacity_barplot_isd.png', dpi=300)\n",
    "\n",
    "    return print('completed (frequency) barplot (isd)')"
   ]
  },
  {
   "cell_type": "code",
   "execution_count": null,
   "metadata": {},
   "outputs": [],
   "source": []
  }
 ],
 "metadata": {
  "kernelspec": {
   "display_name": "Python 3",
   "language": "python",
   "name": "python3"
  },
  "language_info": {
   "codemirror_mode": {
    "name": "ipython",
    "version": 3
   },
   "file_extension": ".py",
   "mimetype": "text/x-python",
   "name": "python",
   "nbconvert_exporter": "python",
   "pygments_lexer": "ipython3",
   "version": "3.7.3"
  }
 },
 "nbformat": 4,
 "nbformat_minor": 2
}
